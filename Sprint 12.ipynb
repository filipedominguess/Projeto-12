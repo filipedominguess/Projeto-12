{
 "cells": [
  {
   "cell_type": "markdown",
   "id": "2f2aff39",
   "metadata": {},
   "source": [
    "O serviço de vendas de carros usados Rusty Bargain está desenvolvendo um aplicativo para atrair novos clientes. Nesse aplicativo, você pode descobrir rapidamente o valor de mercado do seu carro. Você tem acesso a dados históricos: especificações técnicas, versões de acabamento e preços. Você precisa construir o modelo para determinar o valor. \n",
    "\n",
    "Rusty Bargain está interessado em:\n",
    "\n",
    "- a qualidade da predição;\n",
    "- a velocidade da predição;\n",
    "- o tempo necessário para o treinamento"
   ]
  },
  {
   "cell_type": "markdown",
   "id": "1e86250b",
   "metadata": {},
   "source": [
    "## Preparação de Dados"
   ]
  },
  {
   "cell_type": "code",
   "execution_count": 1,
   "id": "86d34d16",
   "metadata": {
    "scrolled": true
   },
   "outputs": [],
   "source": [
    "import pandas as pd\n",
    "import matplotlib.pyplot as plt\n",
    "import numpy as np\n",
    "from sklearn.model_selection import train_test_split, cross_val_score, GridSearchCV, RandomizedSearchCV\n",
    "from sklearn.metrics import make_scorer, mean_absolute_error\n",
    "from sklearn.linear_model import LinearRegression\n",
    "from sklearn.tree import DecisionTreeRegressor\n",
    "from sklearn.ensemble import RandomForestRegressor\n",
    "from catboost import CatBoostRegressor\n",
    "from lightgbm import LGBMRegressor\n",
    "from sklearn.preprocessing import OneHotEncoder, StandardScaler, LabelEncoder\n",
    "import category_encoders as ce"
   ]
  },
  {
   "cell_type": "code",
   "execution_count": 2,
   "id": "4ee22c52",
   "metadata": {},
   "outputs": [],
   "source": [
    "try:\n",
    "    df = pd.read_csv('car_data.csv')\n",
    "except:\n",
    "    df = pd.read_csv('/datasets/car_data.csv')"
   ]
  },
  {
   "cell_type": "code",
   "execution_count": 3,
   "id": "9e8a7bad",
   "metadata": {},
   "outputs": [
    {
     "data": {
      "text/html": [
       "<div>\n",
       "<style scoped>\n",
       "    .dataframe tbody tr th:only-of-type {\n",
       "        vertical-align: middle;\n",
       "    }\n",
       "\n",
       "    .dataframe tbody tr th {\n",
       "        vertical-align: top;\n",
       "    }\n",
       "\n",
       "    .dataframe thead th {\n",
       "        text-align: right;\n",
       "    }\n",
       "</style>\n",
       "<table border=\"1\" class=\"dataframe\">\n",
       "  <thead>\n",
       "    <tr style=\"text-align: right;\">\n",
       "      <th></th>\n",
       "      <th>DateCrawled</th>\n",
       "      <th>Price</th>\n",
       "      <th>VehicleType</th>\n",
       "      <th>RegistrationYear</th>\n",
       "      <th>Gearbox</th>\n",
       "      <th>Power</th>\n",
       "      <th>Model</th>\n",
       "      <th>Mileage</th>\n",
       "      <th>RegistrationMonth</th>\n",
       "      <th>FuelType</th>\n",
       "      <th>Brand</th>\n",
       "      <th>NotRepaired</th>\n",
       "      <th>DateCreated</th>\n",
       "      <th>NumberOfPictures</th>\n",
       "      <th>PostalCode</th>\n",
       "      <th>LastSeen</th>\n",
       "    </tr>\n",
       "  </thead>\n",
       "  <tbody>\n",
       "    <tr>\n",
       "      <th>0</th>\n",
       "      <td>24/03/2016 11:52</td>\n",
       "      <td>480</td>\n",
       "      <td>NaN</td>\n",
       "      <td>1993</td>\n",
       "      <td>manual</td>\n",
       "      <td>0</td>\n",
       "      <td>golf</td>\n",
       "      <td>150000</td>\n",
       "      <td>0</td>\n",
       "      <td>petrol</td>\n",
       "      <td>volkswagen</td>\n",
       "      <td>NaN</td>\n",
       "      <td>24/03/2016 00:00</td>\n",
       "      <td>0</td>\n",
       "      <td>70435</td>\n",
       "      <td>07/04/2016 03:16</td>\n",
       "    </tr>\n",
       "    <tr>\n",
       "      <th>1</th>\n",
       "      <td>24/03/2016 10:58</td>\n",
       "      <td>18300</td>\n",
       "      <td>coupe</td>\n",
       "      <td>2011</td>\n",
       "      <td>manual</td>\n",
       "      <td>190</td>\n",
       "      <td>NaN</td>\n",
       "      <td>125000</td>\n",
       "      <td>5</td>\n",
       "      <td>gasoline</td>\n",
       "      <td>audi</td>\n",
       "      <td>yes</td>\n",
       "      <td>24/03/2016 00:00</td>\n",
       "      <td>0</td>\n",
       "      <td>66954</td>\n",
       "      <td>07/04/2016 01:46</td>\n",
       "    </tr>\n",
       "    <tr>\n",
       "      <th>2</th>\n",
       "      <td>14/03/2016 12:52</td>\n",
       "      <td>9800</td>\n",
       "      <td>suv</td>\n",
       "      <td>2004</td>\n",
       "      <td>auto</td>\n",
       "      <td>163</td>\n",
       "      <td>grand</td>\n",
       "      <td>125000</td>\n",
       "      <td>8</td>\n",
       "      <td>gasoline</td>\n",
       "      <td>jeep</td>\n",
       "      <td>NaN</td>\n",
       "      <td>14/03/2016 00:00</td>\n",
       "      <td>0</td>\n",
       "      <td>90480</td>\n",
       "      <td>05/04/2016 12:47</td>\n",
       "    </tr>\n",
       "    <tr>\n",
       "      <th>3</th>\n",
       "      <td>17/03/2016 16:54</td>\n",
       "      <td>1500</td>\n",
       "      <td>small</td>\n",
       "      <td>2001</td>\n",
       "      <td>manual</td>\n",
       "      <td>75</td>\n",
       "      <td>golf</td>\n",
       "      <td>150000</td>\n",
       "      <td>6</td>\n",
       "      <td>petrol</td>\n",
       "      <td>volkswagen</td>\n",
       "      <td>no</td>\n",
       "      <td>17/03/2016 00:00</td>\n",
       "      <td>0</td>\n",
       "      <td>91074</td>\n",
       "      <td>17/03/2016 17:40</td>\n",
       "    </tr>\n",
       "    <tr>\n",
       "      <th>4</th>\n",
       "      <td>31/03/2016 17:25</td>\n",
       "      <td>3600</td>\n",
       "      <td>small</td>\n",
       "      <td>2008</td>\n",
       "      <td>manual</td>\n",
       "      <td>69</td>\n",
       "      <td>fabia</td>\n",
       "      <td>90000</td>\n",
       "      <td>7</td>\n",
       "      <td>gasoline</td>\n",
       "      <td>skoda</td>\n",
       "      <td>no</td>\n",
       "      <td>31/03/2016 00:00</td>\n",
       "      <td>0</td>\n",
       "      <td>60437</td>\n",
       "      <td>06/04/2016 10:17</td>\n",
       "    </tr>\n",
       "  </tbody>\n",
       "</table>\n",
       "</div>"
      ],
      "text/plain": [
       "        DateCrawled  Price VehicleType  RegistrationYear Gearbox  Power  \\\n",
       "0  24/03/2016 11:52    480         NaN              1993  manual      0   \n",
       "1  24/03/2016 10:58  18300       coupe              2011  manual    190   \n",
       "2  14/03/2016 12:52   9800         suv              2004    auto    163   \n",
       "3  17/03/2016 16:54   1500       small              2001  manual     75   \n",
       "4  31/03/2016 17:25   3600       small              2008  manual     69   \n",
       "\n",
       "   Model  Mileage  RegistrationMonth  FuelType       Brand NotRepaired  \\\n",
       "0   golf   150000                  0    petrol  volkswagen         NaN   \n",
       "1    NaN   125000                  5  gasoline        audi         yes   \n",
       "2  grand   125000                  8  gasoline        jeep         NaN   \n",
       "3   golf   150000                  6    petrol  volkswagen          no   \n",
       "4  fabia    90000                  7  gasoline       skoda          no   \n",
       "\n",
       "        DateCreated  NumberOfPictures  PostalCode          LastSeen  \n",
       "0  24/03/2016 00:00                 0       70435  07/04/2016 03:16  \n",
       "1  24/03/2016 00:00                 0       66954  07/04/2016 01:46  \n",
       "2  14/03/2016 00:00                 0       90480  05/04/2016 12:47  \n",
       "3  17/03/2016 00:00                 0       91074  17/03/2016 17:40  \n",
       "4  31/03/2016 00:00                 0       60437  06/04/2016 10:17  "
      ]
     },
     "execution_count": 3,
     "metadata": {},
     "output_type": "execute_result"
    }
   ],
   "source": [
    "df.head()"
   ]
  },
  {
   "cell_type": "code",
   "execution_count": 4,
   "id": "afadc931",
   "metadata": {
    "scrolled": false
   },
   "outputs": [
    {
     "name": "stdout",
     "output_type": "stream",
     "text": [
      "<class 'pandas.core.frame.DataFrame'>\n",
      "RangeIndex: 354369 entries, 0 to 354368\n",
      "Data columns (total 16 columns):\n",
      " #   Column             Non-Null Count   Dtype \n",
      "---  ------             --------------   ----- \n",
      " 0   DateCrawled        354369 non-null  object\n",
      " 1   Price              354369 non-null  int64 \n",
      " 2   VehicleType        316879 non-null  object\n",
      " 3   RegistrationYear   354369 non-null  int64 \n",
      " 4   Gearbox            334536 non-null  object\n",
      " 5   Power              354369 non-null  int64 \n",
      " 6   Model              334664 non-null  object\n",
      " 7   Mileage            354369 non-null  int64 \n",
      " 8   RegistrationMonth  354369 non-null  int64 \n",
      " 9   FuelType           321474 non-null  object\n",
      " 10  Brand              354369 non-null  object\n",
      " 11  NotRepaired        283215 non-null  object\n",
      " 12  DateCreated        354369 non-null  object\n",
      " 13  NumberOfPictures   354369 non-null  int64 \n",
      " 14  PostalCode         354369 non-null  int64 \n",
      " 15  LastSeen           354369 non-null  object\n",
      "dtypes: int64(7), object(9)\n",
      "memory usage: 43.3+ MB\n"
     ]
    }
   ],
   "source": [
    "df.info()"
   ]
  },
  {
   "cell_type": "code",
   "execution_count": 5,
   "id": "3911700b",
   "metadata": {},
   "outputs": [
    {
     "data": {
      "text/plain": [
       "(354369, 16)"
      ]
     },
     "execution_count": 5,
     "metadata": {},
     "output_type": "execute_result"
    }
   ],
   "source": [
    "df.shape"
   ]
  },
  {
   "cell_type": "markdown",
   "id": "6ff024eb",
   "metadata": {},
   "source": [
    "`DateCrawled` — data em que o perfil foi baixado do banco de dados\n",
    "\n",
    "`VehicleType` — tipo de carroçaria do veículo\n",
    "\n",
    "`RegistrationYear` — ano de matrícula do veículo\n",
    "\n",
    "`Gearbox` — tipo de caixa de transmissão\n",
    "\n",
    "`Power` — potência (hp)\n",
    "\n",
    "`Model` — modelo do veículo\n",
    "\n",
    "`Mileage` — quilometragem (medida em km devido às especificidades regionais do\n",
    "conjunto de dados)\n",
    "\n",
    "`RegistrationMonth` — vehicle registration month\n",
    "\n",
    "`FuelType` — tipo de combustível\n",
    "\n",
    "`Brand` — marca do veículo\n",
    "\n",
    "`NotRepaired` — veículo reparado ou não\n",
    "\n",
    "`DateCreated` — data de criação do perfil\n",
    "\n",
    "`NumberOfPictures` — número de fotos do veículo\n",
    "\n",
    "`PostalCode` — código postal do proprietário do perfil (usuário)\n",
    "\n",
    "`LastSeen` — data da última atividade do usuário"
   ]
  },
  {
   "cell_type": "code",
   "execution_count": 6,
   "id": "47ddd827",
   "metadata": {
    "scrolled": true
   },
   "outputs": [
    {
     "data": {
      "text/html": [
       "<div>\n",
       "<style scoped>\n",
       "    .dataframe tbody tr th:only-of-type {\n",
       "        vertical-align: middle;\n",
       "    }\n",
       "\n",
       "    .dataframe tbody tr th {\n",
       "        vertical-align: top;\n",
       "    }\n",
       "\n",
       "    .dataframe thead th {\n",
       "        text-align: right;\n",
       "    }\n",
       "</style>\n",
       "<table border=\"1\" class=\"dataframe\">\n",
       "  <thead>\n",
       "    <tr style=\"text-align: right;\">\n",
       "      <th></th>\n",
       "      <th>count</th>\n",
       "      <th>mean</th>\n",
       "      <th>std</th>\n",
       "      <th>min</th>\n",
       "      <th>25%</th>\n",
       "      <th>50%</th>\n",
       "      <th>75%</th>\n",
       "      <th>max</th>\n",
       "    </tr>\n",
       "  </thead>\n",
       "  <tbody>\n",
       "    <tr>\n",
       "      <th>Price</th>\n",
       "      <td>354369.0</td>\n",
       "      <td>4416.656776</td>\n",
       "      <td>4514.158514</td>\n",
       "      <td>0.0</td>\n",
       "      <td>1050.0</td>\n",
       "      <td>2700.0</td>\n",
       "      <td>6400.0</td>\n",
       "      <td>20000.0</td>\n",
       "    </tr>\n",
       "    <tr>\n",
       "      <th>RegistrationYear</th>\n",
       "      <td>354369.0</td>\n",
       "      <td>2004.234448</td>\n",
       "      <td>90.227958</td>\n",
       "      <td>1000.0</td>\n",
       "      <td>1999.0</td>\n",
       "      <td>2003.0</td>\n",
       "      <td>2008.0</td>\n",
       "      <td>9999.0</td>\n",
       "    </tr>\n",
       "    <tr>\n",
       "      <th>Power</th>\n",
       "      <td>354369.0</td>\n",
       "      <td>110.094337</td>\n",
       "      <td>189.850405</td>\n",
       "      <td>0.0</td>\n",
       "      <td>69.0</td>\n",
       "      <td>105.0</td>\n",
       "      <td>143.0</td>\n",
       "      <td>20000.0</td>\n",
       "    </tr>\n",
       "    <tr>\n",
       "      <th>Mileage</th>\n",
       "      <td>354369.0</td>\n",
       "      <td>128211.172535</td>\n",
       "      <td>37905.341530</td>\n",
       "      <td>5000.0</td>\n",
       "      <td>125000.0</td>\n",
       "      <td>150000.0</td>\n",
       "      <td>150000.0</td>\n",
       "      <td>150000.0</td>\n",
       "    </tr>\n",
       "    <tr>\n",
       "      <th>RegistrationMonth</th>\n",
       "      <td>354369.0</td>\n",
       "      <td>5.714645</td>\n",
       "      <td>3.726421</td>\n",
       "      <td>0.0</td>\n",
       "      <td>3.0</td>\n",
       "      <td>6.0</td>\n",
       "      <td>9.0</td>\n",
       "      <td>12.0</td>\n",
       "    </tr>\n",
       "    <tr>\n",
       "      <th>NumberOfPictures</th>\n",
       "      <td>354369.0</td>\n",
       "      <td>0.000000</td>\n",
       "      <td>0.000000</td>\n",
       "      <td>0.0</td>\n",
       "      <td>0.0</td>\n",
       "      <td>0.0</td>\n",
       "      <td>0.0</td>\n",
       "      <td>0.0</td>\n",
       "    </tr>\n",
       "    <tr>\n",
       "      <th>PostalCode</th>\n",
       "      <td>354369.0</td>\n",
       "      <td>50508.689087</td>\n",
       "      <td>25783.096248</td>\n",
       "      <td>1067.0</td>\n",
       "      <td>30165.0</td>\n",
       "      <td>49413.0</td>\n",
       "      <td>71083.0</td>\n",
       "      <td>99998.0</td>\n",
       "    </tr>\n",
       "  </tbody>\n",
       "</table>\n",
       "</div>"
      ],
      "text/plain": [
       "                      count           mean           std     min       25%  \\\n",
       "Price              354369.0    4416.656776   4514.158514     0.0    1050.0   \n",
       "RegistrationYear   354369.0    2004.234448     90.227958  1000.0    1999.0   \n",
       "Power              354369.0     110.094337    189.850405     0.0      69.0   \n",
       "Mileage            354369.0  128211.172535  37905.341530  5000.0  125000.0   \n",
       "RegistrationMonth  354369.0       5.714645      3.726421     0.0       3.0   \n",
       "NumberOfPictures   354369.0       0.000000      0.000000     0.0       0.0   \n",
       "PostalCode         354369.0   50508.689087  25783.096248  1067.0   30165.0   \n",
       "\n",
       "                        50%       75%       max  \n",
       "Price                2700.0    6400.0   20000.0  \n",
       "RegistrationYear     2003.0    2008.0    9999.0  \n",
       "Power                 105.0     143.0   20000.0  \n",
       "Mileage            150000.0  150000.0  150000.0  \n",
       "RegistrationMonth       6.0       9.0      12.0  \n",
       "NumberOfPictures        0.0       0.0       0.0  \n",
       "PostalCode          49413.0   71083.0   99998.0  "
      ]
     },
     "execution_count": 6,
     "metadata": {},
     "output_type": "execute_result"
    }
   ],
   "source": [
    "df.describe().T"
   ]
  },
  {
   "cell_type": "code",
   "execution_count": 7,
   "id": "1ab80581",
   "metadata": {
    "scrolled": false
   },
   "outputs": [
    {
     "data": {
      "text/plain": [
       "NotRepaired          0.200791\n",
       "VehicleType          0.105794\n",
       "FuelType             0.092827\n",
       "Gearbox              0.055967\n",
       "Model                0.055606\n",
       "DateCrawled          0.000000\n",
       "Price                0.000000\n",
       "RegistrationYear     0.000000\n",
       "Power                0.000000\n",
       "Mileage              0.000000\n",
       "RegistrationMonth    0.000000\n",
       "Brand                0.000000\n",
       "DateCreated          0.000000\n",
       "NumberOfPictures     0.000000\n",
       "PostalCode           0.000000\n",
       "LastSeen             0.000000\n",
       "dtype: float64"
      ]
     },
     "execution_count": 7,
     "metadata": {},
     "output_type": "execute_result"
    }
   ],
   "source": [
    "df.isnull().mean().sort_values(ascending=False)"
   ]
  },
  {
   "cell_type": "code",
   "execution_count": 8,
   "id": "73864a6b",
   "metadata": {},
   "outputs": [
    {
     "data": {
      "text/html": [
       "<div>\n",
       "<style scoped>\n",
       "    .dataframe tbody tr th:only-of-type {\n",
       "        vertical-align: middle;\n",
       "    }\n",
       "\n",
       "    .dataframe tbody tr th {\n",
       "        vertical-align: top;\n",
       "    }\n",
       "\n",
       "    .dataframe thead th {\n",
       "        text-align: right;\n",
       "    }\n",
       "</style>\n",
       "<table border=\"1\" class=\"dataframe\">\n",
       "  <thead>\n",
       "    <tr style=\"text-align: right;\">\n",
       "      <th></th>\n",
       "      <th>count</th>\n",
       "      <th>mean</th>\n",
       "      <th>min</th>\n",
       "      <th>25%</th>\n",
       "      <th>50%</th>\n",
       "      <th>75%</th>\n",
       "      <th>max</th>\n",
       "    </tr>\n",
       "  </thead>\n",
       "  <tbody>\n",
       "    <tr>\n",
       "      <th>DateCrawled</th>\n",
       "      <td>354369</td>\n",
       "      <td>2016-03-21 12:57:41.165057280</td>\n",
       "      <td>2016-03-05 14:06:00</td>\n",
       "      <td>2016-03-13 11:52:00</td>\n",
       "      <td>2016-03-21 17:50:00</td>\n",
       "      <td>2016-03-29 14:37:00</td>\n",
       "      <td>2016-04-07 14:36:00</td>\n",
       "    </tr>\n",
       "    <tr>\n",
       "      <th>DateCreated</th>\n",
       "      <td>354369</td>\n",
       "      <td>2016-03-20 19:12:07.753274112</td>\n",
       "      <td>2014-03-10 00:00:00</td>\n",
       "      <td>2016-03-13 00:00:00</td>\n",
       "      <td>2016-03-21 00:00:00</td>\n",
       "      <td>2016-03-29 00:00:00</td>\n",
       "      <td>2016-04-07 00:00:00</td>\n",
       "    </tr>\n",
       "    <tr>\n",
       "      <th>LastSeen</th>\n",
       "      <td>354369</td>\n",
       "      <td>2016-03-29 23:50:30.593703680</td>\n",
       "      <td>2016-03-05 14:15:00</td>\n",
       "      <td>2016-03-23 02:50:00</td>\n",
       "      <td>2016-04-03 15:15:00</td>\n",
       "      <td>2016-04-06 10:15:00</td>\n",
       "      <td>2016-04-07 14:58:00</td>\n",
       "    </tr>\n",
       "  </tbody>\n",
       "</table>\n",
       "</div>"
      ],
      "text/plain": [
       "              count                          mean                 min  \\\n",
       "DateCrawled  354369 2016-03-21 12:57:41.165057280 2016-03-05 14:06:00   \n",
       "DateCreated  354369 2016-03-20 19:12:07.753274112 2014-03-10 00:00:00   \n",
       "LastSeen     354369 2016-03-29 23:50:30.593703680 2016-03-05 14:15:00   \n",
       "\n",
       "                            25%                 50%                 75%  \\\n",
       "DateCrawled 2016-03-13 11:52:00 2016-03-21 17:50:00 2016-03-29 14:37:00   \n",
       "DateCreated 2016-03-13 00:00:00 2016-03-21 00:00:00 2016-03-29 00:00:00   \n",
       "LastSeen    2016-03-23 02:50:00 2016-04-03 15:15:00 2016-04-06 10:15:00   \n",
       "\n",
       "                            max  \n",
       "DateCrawled 2016-04-07 14:36:00  \n",
       "DateCreated 2016-04-07 00:00:00  \n",
       "LastSeen    2016-04-07 14:58:00  "
      ]
     },
     "execution_count": 8,
     "metadata": {},
     "output_type": "execute_result"
    }
   ],
   "source": [
    "df['DateCrawled'] = pd.to_datetime(df['DateCrawled'], format='%d/%m/%Y %H:%M')\n",
    "df['DateCreated'] = pd.to_datetime(df['DateCreated'], format='%d/%m/%Y %H:%M')\n",
    "df['LastSeen'] = pd.to_datetime(df['LastSeen'], format='%d/%m/%Y %H:%M')\n",
    "df[['DateCrawled', 'DateCreated',\n",
    "    'LastSeen']].describe(datetime_is_numeric=True).T"
   ]
  },
  {
   "cell_type": "code",
   "execution_count": 9,
   "id": "2c878931",
   "metadata": {},
   "outputs": [
    {
     "data": {
      "text/plain": [
       "0"
      ]
     },
     "execution_count": 9,
     "metadata": {},
     "output_type": "execute_result"
    }
   ],
   "source": [
    "df['NotRepaired'].fillna(value='unknown', inplace=True)\n",
    "df['NotRepaired'].isnull().sum()"
   ]
  },
  {
   "cell_type": "code",
   "execution_count": 10,
   "id": "ed31b38b",
   "metadata": {},
   "outputs": [
    {
     "data": {
      "text/plain": [
       "0"
      ]
     },
     "execution_count": 10,
     "metadata": {},
     "output_type": "execute_result"
    }
   ],
   "source": [
    "df['Model'].fillna('other', inplace=True)\n",
    "df['Model'].isnull().sum()"
   ]
  },
  {
   "cell_type": "code",
   "execution_count": 11,
   "id": "12f4fe59",
   "metadata": {
    "scrolled": true
   },
   "outputs": [
    {
     "data": {
      "text/plain": [
       "2000    24490\n",
       "1999    22728\n",
       "2005    22109\n",
       "2001    20124\n",
       "2006    19900\n",
       "        ...  \n",
       "6500        1\n",
       "2290        1\n",
       "1001        1\n",
       "9450        1\n",
       "3500        1\n",
       "Name: RegistrationYear, Length: 151, dtype: int64"
      ]
     },
     "execution_count": 11,
     "metadata": {},
     "output_type": "execute_result"
    }
   ],
   "source": [
    "df['RegistrationYear'].value_counts()"
   ]
  },
  {
   "cell_type": "code",
   "execution_count": 12,
   "id": "d79c9d2d",
   "metadata": {
    "scrolled": false
   },
   "outputs": [
    {
     "data": {
      "image/png": "[encoded data removed]",
      "text/plain": [
       "<Figure size 1200x600 with 1 Axes>"
      ]
     },
     "metadata": {},
     "output_type": "display_data"
    }
   ],
   "source": [
    "# Filtrar os anos de registro dentro de um intervalo razoável\n",
    "filtered_df = df[(df['RegistrationYear'] >= 1800)\n",
    "                 & (df['RegistrationYear'] <= 2023)]\n",
    "\n",
    "plt.figure(figsize=(12, 6))\n",
    "plt.hist(filtered_df['RegistrationYear'], bins=30, edgecolor='k')\n",
    "plt.show()"
   ]
  },
  {
   "cell_type": "code",
   "execution_count": 13,
   "id": "f89082d3",
   "metadata": {
    "scrolled": false
   },
   "outputs": [
    {
     "data": {
      "image/png": "[encoded data removed]",
      "text/plain": [
       "<Figure size 1200x600 with 1 Axes>"
      ]
     },
     "metadata": {},
     "output_type": "display_data"
    }
   ],
   "source": [
    "df = df[(1950 <= df['RegistrationYear']) & (df['RegistrationYear'] <= 2020)]\n",
    "plt.figure(figsize=(12, 6))\n",
    "plt.hist(df['RegistrationYear'], bins=30, edgecolor='k')\n",
    "plt.show()"
   ]
  },
  {
   "cell_type": "code",
   "execution_count": 14,
   "id": "c969aa8f",
   "metadata": {
    "scrolled": false
   },
   "outputs": [
    {
     "data": {
      "image/png": "[encoded data removed]",
      "text/plain": [
       "<Figure size 1200x600 with 1 Axes>"
      ]
     },
     "metadata": {},
     "output_type": "display_data"
    }
   ],
   "source": [
    "df = df[df['Price'] > 0]\n",
    "\n",
    "plt.figure(figsize=(12, 6))\n",
    "plt.hist(df['Price'], bins=20, edgecolor='k', color='blue')\n",
    "\n",
    "plt.show()"
   ]
  },
  {
   "cell_type": "code",
   "execution_count": 15,
   "id": "38e18555",
   "metadata": {
    "scrolled": false
   },
   "outputs": [
    {
     "data": {
      "image/png": "[encoded data removed]",
      "text/plain": [
       "<Figure size 1000x700 with 1 Axes>"
      ]
     },
     "metadata": {},
     "output_type": "display_data"
    }
   ],
   "source": [
    "fig = plt.figure(figsize=(10, 7))\n",
    "plt.boxplot(df['Power'])\n",
    "plt.show()"
   ]
  },
  {
   "cell_type": "code",
   "execution_count": 16,
   "id": "a847a0a3",
   "metadata": {
    "scrolled": false
   },
   "outputs": [
    {
     "data": {
      "image/png": "[encoded data removed]",
      "text/plain": [
       "<Figure size 1000x700 with 1 Axes>"
      ]
     },
     "metadata": {},
     "output_type": "display_data"
    }
   ],
   "source": [
    "Q1 = df['Power'].quantile(0.25)\n",
    "Q3 = df['Power'].quantile(0.75)\n",
    "\n",
    "IQR = Q3 - Q1\n",
    "\n",
    "limite_inferior = Q1 - 1.5 * IQR\n",
    "limite_superior = Q3 + 1.5 * IQR\n",
    "\n",
    "df = df[(df['Power'] >= limite_inferior) & (df['Power'] <= limite_superior)]\n",
    "\n",
    "fig = plt.figure(figsize=(10, 7))\n",
    "plt.boxplot(df['Power'])\n",
    "plt.show()"
   ]
  },
  {
   "cell_type": "code",
   "execution_count": 17,
   "id": "eae88c6f",
   "metadata": {},
   "outputs": [],
   "source": [
    "def fill_missing_with_common(df, groupby_col, fill_col):\n",
    "    common_values = df.groupby(groupby_col)[fill_col].apply(\n",
    "        lambda x: x.mode().iat[0] if not x.mode().empty else None).to_dict()\n",
    "\n",
    "    df[fill_col].fillna(df[groupby_col].map(common_values), inplace=True)"
   ]
  },
  {
   "cell_type": "code",
   "execution_count": 18,
   "id": "89d4f897",
   "metadata": {},
   "outputs": [
    {
     "data": {
      "text/plain": [
       "0"
      ]
     },
     "execution_count": 18,
     "metadata": {},
     "output_type": "execute_result"
    }
   ],
   "source": [
    "fill_missing_with_common(df, 'Model', 'FuelType')\n",
    "df['FuelType'].isnull().sum()"
   ]
  },
  {
   "cell_type": "code",
   "execution_count": 19,
   "id": "43027fe5",
   "metadata": {
    "scrolled": true
   },
   "outputs": [
    {
     "data": {
      "text/plain": [
       "0"
      ]
     },
     "execution_count": 19,
     "metadata": {},
     "output_type": "execute_result"
    }
   ],
   "source": [
    "fill_missing_with_common(df, 'Model', 'Gearbox')\n",
    "df['Gearbox'].isnull().sum()"
   ]
  },
  {
   "cell_type": "code",
   "execution_count": 20,
   "id": "9640d074",
   "metadata": {},
   "outputs": [
    {
     "data": {
      "text/plain": [
       "0"
      ]
     },
     "execution_count": 20,
     "metadata": {},
     "output_type": "execute_result"
    }
   ],
   "source": [
    "fill_missing_with_common(df, 'Model', 'VehicleType')\n",
    "df['VehicleType'].isnull().sum()"
   ]
  },
  {
   "cell_type": "code",
   "execution_count": 21,
   "id": "cf1f25ea",
   "metadata": {},
   "outputs": [],
   "source": [
    "df.drop(['NumberOfPictures'], axis=1, inplace=True)"
   ]
  },
  {
   "cell_type": "code",
   "execution_count": 22,
   "id": "8f3e717e",
   "metadata": {
    "scrolled": true
   },
   "outputs": [
    {
     "data": {
      "text/plain": [
       "265"
      ]
     },
     "execution_count": 22,
     "metadata": {},
     "output_type": "execute_result"
    }
   ],
   "source": [
    "df.duplicated().sum()"
   ]
  },
  {
   "cell_type": "code",
   "execution_count": 23,
   "id": "e4f87125",
   "metadata": {},
   "outputs": [
    {
     "data": {
      "text/plain": [
       "0"
      ]
     },
     "execution_count": 23,
     "metadata": {},
     "output_type": "execute_result"
    }
   ],
   "source": [
    "df.drop_duplicates(inplace=True)\n",
    "df.duplicated().sum()"
   ]
  },
  {
   "cell_type": "code",
   "execution_count": 24,
   "id": "39442dc3",
   "metadata": {},
   "outputs": [],
   "source": [
    "df['UserDays'] = (df['LastSeen'] - df['DateCreated']).dt.days"
   ]
  },
  {
   "cell_type": "code",
   "execution_count": 25,
   "id": "f95cf404",
   "metadata": {
    "scrolled": true
   },
   "outputs": [
    {
     "name": "stdout",
     "output_type": "stream",
     "text": [
      "<class 'pandas.core.frame.DataFrame'>\n",
      "Int64Index: 335940 entries, 0 to 354368\n",
      "Data columns (total 16 columns):\n",
      " #   Column             Non-Null Count   Dtype         \n",
      "---  ------             --------------   -----         \n",
      " 0   DateCrawled        335940 non-null  datetime64[ns]\n",
      " 1   Price              335940 non-null  int64         \n",
      " 2   VehicleType        335940 non-null  object        \n",
      " 3   RegistrationYear   335940 non-null  int64         \n",
      " 4   Gearbox            335940 non-null  object        \n",
      " 5   Power              335940 non-null  int64         \n",
      " 6   Model              335940 non-null  object        \n",
      " 7   Mileage            335940 non-null  int64         \n",
      " 8   RegistrationMonth  335940 non-null  int64         \n",
      " 9   FuelType           335940 non-null  object        \n",
      " 10  Brand              335940 non-null  object        \n",
      " 11  NotRepaired        335940 non-null  object        \n",
      " 12  DateCreated        335940 non-null  datetime64[ns]\n",
      " 13  PostalCode         335940 non-null  int64         \n",
      " 14  LastSeen           335940 non-null  datetime64[ns]\n",
      " 15  UserDays           335940 non-null  int64         \n",
      "dtypes: datetime64[ns](3), int64(7), object(6)\n",
      "memory usage: 43.6+ MB\n"
     ]
    }
   ],
   "source": [
    "df.info()"
   ]
  },
  {
   "cell_type": "markdown",
   "id": "a38dc9ce",
   "metadata": {},
   "source": [
    "1. Importação de Bibliotecas:\n",
    "- Começamos importando bibliotecas essenciais, como pandas, matplotlib e scikit-learn. Essas bibliotecas são necessárias para manipular os dados, visualizá-los e realizar tarefas de aprendizado de máquina.\n",
    "\n",
    "2. Leitura do Conjunto de Dados:\n",
    "- Tentei ler o conjunto de dados a partir de `car_data.csv`, mas, caso não estivesse lá, o código tentaria lê-lo de `/datasets/car_data.csv` que é onde está armazenado na plataforma da TripleTen. \n",
    "\n",
    "3. Visualização Inicial do Conjunto de Dados:\n",
    "- Exibimos as primeiras linhas do conjunto de dados com df.head(). Isso ajuda a entender a estrutura dos dados e garantir que a leitura tenha ocorrido corretamente.\n",
    "\n",
    "4. Informações Gerais sobre o Conjunto de Dados:\n",
    "- Usei df.info() para obter informações detalhadas sobre o conjunto de dados, como número de entradas, colunas e tipos de dados. Isso ajuda a verificar rapidamente a qualidade dos dados.\n",
    "\n",
    "5. Verificação de Valores Nulos:\n",
    "- Utilizei df.isnull().mean().sort_values(ascending=False) para verificar a porcentagem de valores nulos em cada coluna. Isso é crucial para identificar a necessidade de tratamento de valores ausentes.\n",
    "\n",
    "6. Conversão de Colunas de Data:\n",
    "- Converti as colunas de data (`DateCrawled`, `DateCreated` e `LastSeen`) para o formato de data usando pd.to_datetime.\n",
    "\n",
    "7. Tratamento de Valores Nulos:\n",
    "- Preenchi valores nulos nas colunas `NotRepaired` e `Model` com `unknown` e `other`, respectivamente. Essas escolhas foram feitas para não perder informações importantes e manter a integridade dos dados.\n",
    "\n",
    "8. Análise da Coluna `RegistrationYear`:\n",
    "- Verifiquei a distribuição dos anos de registro. Para evitar valores extremos, mantive apenas os anos entre 1950 e 2020, considerando a realidade dos carros.\n",
    "\n",
    "9. Análise da Coluna `Price`:\n",
    "- Analisei a distribuição dos preços dos carros e removi valores iguais ou menores a zero, pois preços não positivos não fazem sentido.\n",
    "\n",
    "10. Análise da Coluna `Power`:\n",
    "- Visualizei os dados usando um boxplot para identificar outliers. Removi os valores discrepantes usando o método do Intervalo Interquartil (IQR).\n",
    "\n",
    "11. Imputação de Valores Ausentes:\n",
    "- Imputei valores ausentes nas colunas categóricas `FuelType`, `Gearbox` e `VehicleType` com base no valor mais comum no grupo `Model`. Isso ajuda a manter a consistência nos dados categóricos.\n",
    "\n",
    "12. Remoção da Coluna `NumberOfPictures`:\n",
    "- Removi a coluna `NumberOfPictures` porque todos os valores eram zero, não contribuindo para análises futuras.\n",
    "\n",
    "13. Remoção de Duplicatas:\n",
    "- Identifiquei e removi duplicatas do conjunto de dados para garantir que cada entrada seja única.\n",
    "\n",
    "14. Criação da Coluna `UserDays`:\n",
    "- Criei uma nova coluna `UserDays` para representar o número de dias entre `LastSeen` e `DateCreated`.\n",
    "\n",
    "**Conclusão Geral:**\n",
    "\n",
    "Realizei uma preparação dos dados, abordando valores nulos, outliers, valores inválidos e imputação inteligente de dados categóricos. A limpeza e transformação dos dados são cruciais para garantir que o conjunto de dados esteja em um estado adequado. "
   ]
  },
  {
   "cell_type": "markdown",
   "id": "e904493b",
   "metadata": {},
   "source": [
    "## Treinamento do modelo"
   ]
  },
  {
   "cell_type": "code",
   "execution_count": 26,
   "id": "34eb74a2",
   "metadata": {},
   "outputs": [],
   "source": [
    "df.drop(['DateCrawled', 'DateCreated', 'LastSeen'], axis=1, inplace=True)"
   ]
  },
  {
   "cell_type": "code",
   "execution_count": 27,
   "id": "13be0fd8",
   "metadata": {},
   "outputs": [],
   "source": [
    "features = df.drop(['Price', 'PostalCode'], axis=1)\n",
    "target = df['Price']"
   ]
  },
  {
   "cell_type": "code",
   "execution_count": 28,
   "id": "40e5c3b8",
   "metadata": {},
   "outputs": [],
   "source": [
    "features_train, features_valid, target_train, target_valid = train_test_split(\n",
    "    features, target, test_size=0.25, random_state=42)"
   ]
  },
  {
   "cell_type": "code",
   "execution_count": 29,
   "id": "a8767b0d",
   "metadata": {},
   "outputs": [],
   "source": [
    "features_test, features_valid, target_test, target_valid = train_test_split(\n",
    "    features_valid, target_valid, test_size=0.50, random_state=42)"
   ]
  },
  {
   "cell_type": "code",
   "execution_count": 57,
   "id": "b4a3d336",
   "metadata": {},
   "outputs": [],
   "source": [
    "features_train_encoder, features_valid_encoder, features_test_encoder = features_train.copy(\n",
    "), features_valid.copy(), features_test.copy()\n",
    "cat_features = [\n",
    "    'VehicleType', 'Gearbox', 'Model', 'FuelType', 'Brand', 'NotRepaired'\n",
    "]\n",
    "\n",
    "\n",
    "def encod(data):\n",
    "    one_hot_cols = [x for x in cat_features if data[x].nunique() <= 3]\n",
    "    encoding_cols = list(set(cat_features) - set(one_hot_cols))\n",
    "    numerical_cols = ['Power', 'Mileage']\n",
    "\n",
    "    scaler = StandardScaler()\n",
    "    data[numerical_cols] = scaler.fit_transform(data[numerical_cols])\n",
    "\n",
    "    encoder = ce.OneHotEncoder(cols=one_hot_cols)\n",
    "    data = encoder.fit_transform(data)\n",
    "\n",
    "    encoder = LabelEncoder()\n",
    "    for col in encoding_cols:\n",
    "        data[col] = encoder.fit_transform(data[col])\n",
    "\n",
    "    return data"
   ]
  },
  {
   "cell_type": "code",
   "execution_count": 58,
   "id": "d5655ffc",
   "metadata": {},
   "outputs": [],
   "source": [
    "features_train_encoder = encod(features_train_encoder)\n",
    "features_valid_encoder = encod(features_valid_encoder)\n",
    "features_test_encoder = encod(features_test_encoder)"
   ]
  },
  {
   "cell_type": "code",
   "execution_count": 59,
   "id": "b40fc693",
   "metadata": {},
   "outputs": [],
   "source": [
    "def rmse(pred, target):\n",
    "    return np.sqrt(np.mean((np.array(pred) - np.array(target))**2))\n",
    "\n",
    "\n",
    "scorer = make_scorer(rmse, greater_is_better=False)"
   ]
  },
  {
   "cell_type": "code",
   "execution_count": 60,
   "id": "d7b6b908",
   "metadata": {},
   "outputs": [],
   "source": [
    "model_linear_regression = LinearRegression()\n",
    "score_linear_regression = cross_val_score(model_linear_regression,\n",
    "                                          features_valid_encoder,\n",
    "                                          target_valid,\n",
    "                                          cv=5)"
   ]
  },
  {
   "cell_type": "code",
   "execution_count": 61,
   "id": "060ac914",
   "metadata": {},
   "outputs": [
    {
     "name": "stdout",
     "output_type": "stream",
     "text": [
      "CPU times: total: 281 ms\n",
      "Wall time: 143 ms\n"
     ]
    },
    {
     "data": {
      "text/html": [
       "<style>#sk-container-id-5 {color: black;}#sk-container-id-5 pre{padding: 0;}#sk-container-id-5 div.sk-toggleable {background-color: white;}#sk-container-id-5 label.sk-toggleable__label {cursor: pointer;display: block;width: 100%;margin-bottom: 0;padding: 0.3em;box-sizing: border-box;text-align: center;}#sk-container-id-5 label.sk-toggleable__label-arrow:before {content: \"▸\";float: left;margin-right: 0.25em;color: #696969;}#sk-container-id-5 label.sk-toggleable__label-arrow:hover:before {color: black;}#sk-container-id-5 div.sk-estimator:hover label.sk-toggleable__label-arrow:before {color: black;}#sk-container-id-5 div.sk-toggleable__content {max-height: 0;max-width: 0;overflow: hidden;text-align: left;background-color: #f0f8ff;}#sk-container-id-5 div.sk-toggleable__content pre {margin: 0.2em;color: black;border-radius: 0.25em;background-color: #f0f8ff;}#sk-container-id-5 input.sk-toggleable__control:checked~div.sk-toggleable__content {max-height: 200px;max-width: 100%;overflow: auto;}#sk-container-id-5 input.sk-toggleable__control:checked~label.sk-toggleable__label-arrow:before {content: \"▾\";}#sk-container-id-5 div.sk-estimator input.sk-toggleable__control:checked~label.sk-toggleable__label {background-color: #d4ebff;}#sk-container-id-5 div.sk-label input.sk-toggleable__control:checked~label.sk-toggleable__label {background-color: #d4ebff;}#sk-container-id-5 input.sk-hidden--visually {border: 0;clip: rect(1px 1px 1px 1px);clip: rect(1px, 1px, 1px, 1px);height: 1px;margin: -1px;overflow: hidden;padding: 0;position: absolute;width: 1px;}#sk-container-id-5 div.sk-estimator {font-family: monospace;background-color: #f0f8ff;border: 1px dotted black;border-radius: 0.25em;box-sizing: border-box;margin-bottom: 0.5em;}#sk-container-id-5 div.sk-estimator:hover {background-color: #d4ebff;}#sk-container-id-5 div.sk-parallel-item::after {content: \"\";width: 100%;border-bottom: 1px solid gray;flex-grow: 1;}#sk-container-id-5 div.sk-label:hover label.sk-toggleable__label {background-color: #d4ebff;}#sk-container-id-5 div.sk-serial::before {content: \"\";position: absolute;border-left: 1px solid gray;box-sizing: border-box;top: 0;bottom: 0;left: 50%;z-index: 0;}#sk-container-id-5 div.sk-serial {display: flex;flex-direction: column;align-items: center;background-color: white;padding-right: 0.2em;padding-left: 0.2em;position: relative;}#sk-container-id-5 div.sk-item {position: relative;z-index: 1;}#sk-container-id-5 div.sk-parallel {display: flex;align-items: stretch;justify-content: center;background-color: white;position: relative;}#sk-container-id-5 div.sk-item::before, #sk-container-id-5 div.sk-parallel-item::before {content: \"\";position: absolute;border-left: 1px solid gray;box-sizing: border-box;top: 0;bottom: 0;left: 50%;z-index: -1;}#sk-container-id-5 div.sk-parallel-item {display: flex;flex-direction: column;z-index: 1;position: relative;background-color: white;}#sk-container-id-5 div.sk-parallel-item:first-child::after {align-self: flex-end;width: 50%;}#sk-container-id-5 div.sk-parallel-item:last-child::after {align-self: flex-start;width: 50%;}#sk-container-id-5 div.sk-parallel-item:only-child::after {width: 0;}#sk-container-id-5 div.sk-dashed-wrapped {border: 1px dashed gray;margin: 0 0.4em 0.5em 0.4em;box-sizing: border-box;padding-bottom: 0.4em;background-color: white;}#sk-container-id-5 div.sk-label label {font-family: monospace;font-weight: bold;display: inline-block;line-height: 1.2em;}#sk-container-id-5 div.sk-label-container {text-align: center;}#sk-container-id-5 div.sk-container {/* jupyter's `normalize.less` sets `[hidden] { display: none; }` but bootstrap.min.css set `[hidden] { display: none !important; }` so we also need the `!important` here to be able to override the default hidden behavior on the sphinx rendered scikit-learn.org. See: https://github.com/scikit-learn/scikit-learn/issues/21755 */display: inline-block !important;position: relative;}#sk-container-id-5 div.sk-text-repr-fallback {display: none;}</style><div id=\"sk-container-id-5\" class=\"sk-top-container\"><div class=\"sk-text-repr-fallback\"><pre>LinearRegression()</pre><b>In a Jupyter environment, please rerun this cell to show the HTML representation or trust the notebook. <br />On GitHub, the HTML representation is unable to render, please try loading this page with nbviewer.org.</b></div><div class=\"sk-container\" hidden><div class=\"sk-item\"><div class=\"sk-estimator sk-toggleable\"><input class=\"sk-toggleable__control sk-hidden--visually\" id=\"sk-estimator-id-5\" type=\"checkbox\" checked><label for=\"sk-estimator-id-5\" class=\"sk-toggleable__label sk-toggleable__label-arrow\">LinearRegression</label><div class=\"sk-toggleable__content\"><pre>LinearRegression()</pre></div></div></div></div></div>"
      ],
      "text/plain": [
       "LinearRegression()"
      ]
     },
     "execution_count": 61,
     "metadata": {},
     "output_type": "execute_result"
    }
   ],
   "source": [
    "model_linear_regression = LinearRegression()\n",
    "%time model_linear_regression.fit(features_train_encoder, target_train)"
   ]
  },
  {
   "cell_type": "code",
   "execution_count": 35,
   "id": "01a5e537",
   "metadata": {
    "scrolled": true
   },
   "outputs": [
    {
     "name": "stdout",
     "output_type": "stream",
     "text": [
      "CPU times: total: 31.2 ms\n",
      "Wall time: 5.5 ms\n"
     ]
    }
   ],
   "source": [
    "%time linear_regression_predicted = model_linear_regression.predict(features_valid_encoder)"
   ]
  },
  {
   "cell_type": "code",
   "execution_count": 36,
   "id": "3f9cd9e6",
   "metadata": {},
   "outputs": [
    {
     "data": {
      "text/plain": [
       "3196.4536428365886"
      ]
     },
     "execution_count": 36,
     "metadata": {},
     "output_type": "execute_result"
    }
   ],
   "source": [
    "linear_regression_rmse = rmse(target_valid, linear_regression_predicted)\n",
    "linear_regression_rmse"
   ]
  },
  {
   "cell_type": "code",
   "execution_count": 62,
   "id": "ce144a38",
   "metadata": {},
   "outputs": [
    {
     "name": "stdout",
     "output_type": "stream",
     "text": [
      "Melhores hiperparâmetros após pesquisa aleatória: {'max_depth': 13}\n",
      "Melhores hiperparâmetros finais após pesquisa em grade: {'max_depth': 13}\n",
      "Melhor pontuação final: 3783471.337693357\n"
     ]
    }
   ],
   "source": [
    "param_dist = {'max_depth': np.arange(10, 16)}\n",
    "\n",
    "model_DecisionTreeRegressor = DecisionTreeRegressor(random_state=42)\n",
    "\n",
    "random_search = RandomizedSearchCV(model_DecisionTreeRegressor,\n",
    "                                   param_distributions=param_dist,\n",
    "                                   n_iter=6,\n",
    "                                   cv=5,\n",
    "                                   scoring='neg_mean_squared_error',\n",
    "                                   random_state=42)\n",
    "\n",
    "random_search.fit(features_train_encoder, target_train)\n",
    "\n",
    "best_random_params = random_search.best_params_\n",
    "\n",
    "param_grid = {\n",
    "    'max_depth':\n",
    "    range(best_random_params['max_depth'] - 1,\n",
    "          best_random_params['max_depth'] + 2)\n",
    "}\n",
    "\n",
    "grid_search = GridSearchCV(model_DecisionTreeRegressor,\n",
    "                           param_grid,\n",
    "                           cv=5,\n",
    "                           scoring='neg_mean_squared_error')\n",
    "\n",
    "grid_search.fit(features_valid_encoder, target_valid)\n",
    "\n",
    "best_params = grid_search.best_params_\n",
    "best_score = -grid_search.best_score_\n",
    "\n",
    "print('Melhores hiperparâmetros após pesquisa aleatória:', best_random_params)\n",
    "print('Melhores hiperparâmetros finais após pesquisa em grade:', best_params)\n",
    "print('Melhor pontuação final:', best_score)"
   ]
  },
  {
   "cell_type": "code",
   "execution_count": 38,
   "id": "4b0d7c18",
   "metadata": {},
   "outputs": [
    {
     "name": "stdout",
     "output_type": "stream",
     "text": [
      "CPU times: total: 641 ms\n",
      "Wall time: 883 ms\n"
     ]
    },
    {
     "data": {
      "text/html": [
       "<style>#sk-container-id-2 {color: black;}#sk-container-id-2 pre{padding: 0;}#sk-container-id-2 div.sk-toggleable {background-color: white;}#sk-container-id-2 label.sk-toggleable__label {cursor: pointer;display: block;width: 100%;margin-bottom: 0;padding: 0.3em;box-sizing: border-box;text-align: center;}#sk-container-id-2 label.sk-toggleable__label-arrow:before {content: \"▸\";float: left;margin-right: 0.25em;color: #696969;}#sk-container-id-2 label.sk-toggleable__label-arrow:hover:before {color: black;}#sk-container-id-2 div.sk-estimator:hover label.sk-toggleable__label-arrow:before {color: black;}#sk-container-id-2 div.sk-toggleable__content {max-height: 0;max-width: 0;overflow: hidden;text-align: left;background-color: #f0f8ff;}#sk-container-id-2 div.sk-toggleable__content pre {margin: 0.2em;color: black;border-radius: 0.25em;background-color: #f0f8ff;}#sk-container-id-2 input.sk-toggleable__control:checked~div.sk-toggleable__content {max-height: 200px;max-width: 100%;overflow: auto;}#sk-container-id-2 input.sk-toggleable__control:checked~label.sk-toggleable__label-arrow:before {content: \"▾\";}#sk-container-id-2 div.sk-estimator input.sk-toggleable__control:checked~label.sk-toggleable__label {background-color: #d4ebff;}#sk-container-id-2 div.sk-label input.sk-toggleable__control:checked~label.sk-toggleable__label {background-color: #d4ebff;}#sk-container-id-2 input.sk-hidden--visually {border: 0;clip: rect(1px 1px 1px 1px);clip: rect(1px, 1px, 1px, 1px);height: 1px;margin: -1px;overflow: hidden;padding: 0;position: absolute;width: 1px;}#sk-container-id-2 div.sk-estimator {font-family: monospace;background-color: #f0f8ff;border: 1px dotted black;border-radius: 0.25em;box-sizing: border-box;margin-bottom: 0.5em;}#sk-container-id-2 div.sk-estimator:hover {background-color: #d4ebff;}#sk-container-id-2 div.sk-parallel-item::after {content: \"\";width: 100%;border-bottom: 1px solid gray;flex-grow: 1;}#sk-container-id-2 div.sk-label:hover label.sk-toggleable__label {background-color: #d4ebff;}#sk-container-id-2 div.sk-serial::before {content: \"\";position: absolute;border-left: 1px solid gray;box-sizing: border-box;top: 0;bottom: 0;left: 50%;z-index: 0;}#sk-container-id-2 div.sk-serial {display: flex;flex-direction: column;align-items: center;background-color: white;padding-right: 0.2em;padding-left: 0.2em;position: relative;}#sk-container-id-2 div.sk-item {position: relative;z-index: 1;}#sk-container-id-2 div.sk-parallel {display: flex;align-items: stretch;justify-content: center;background-color: white;position: relative;}#sk-container-id-2 div.sk-item::before, #sk-container-id-2 div.sk-parallel-item::before {content: \"\";position: absolute;border-left: 1px solid gray;box-sizing: border-box;top: 0;bottom: 0;left: 50%;z-index: -1;}#sk-container-id-2 div.sk-parallel-item {display: flex;flex-direction: column;z-index: 1;position: relative;background-color: white;}#sk-container-id-2 div.sk-parallel-item:first-child::after {align-self: flex-end;width: 50%;}#sk-container-id-2 div.sk-parallel-item:last-child::after {align-self: flex-start;width: 50%;}#sk-container-id-2 div.sk-parallel-item:only-child::after {width: 0;}#sk-container-id-2 div.sk-dashed-wrapped {border: 1px dashed gray;margin: 0 0.4em 0.5em 0.4em;box-sizing: border-box;padding-bottom: 0.4em;background-color: white;}#sk-container-id-2 div.sk-label label {font-family: monospace;font-weight: bold;display: inline-block;line-height: 1.2em;}#sk-container-id-2 div.sk-label-container {text-align: center;}#sk-container-id-2 div.sk-container {/* jupyter's `normalize.less` sets `[hidden] { display: none; }` but bootstrap.min.css set `[hidden] { display: none !important; }` so we also need the `!important` here to be able to override the default hidden behavior on the sphinx rendered scikit-learn.org. See: https://github.com/scikit-learn/scikit-learn/issues/21755 */display: inline-block !important;position: relative;}#sk-container-id-2 div.sk-text-repr-fallback {display: none;}</style><div id=\"sk-container-id-2\" class=\"sk-top-container\"><div class=\"sk-text-repr-fallback\"><pre>DecisionTreeRegressor(max_depth=13, random_state=42)</pre><b>In a Jupyter environment, please rerun this cell to show the HTML representation or trust the notebook. <br />On GitHub, the HTML representation is unable to render, please try loading this page with nbviewer.org.</b></div><div class=\"sk-container\" hidden><div class=\"sk-item\"><div class=\"sk-estimator sk-toggleable\"><input class=\"sk-toggleable__control sk-hidden--visually\" id=\"sk-estimator-id-2\" type=\"checkbox\" checked><label for=\"sk-estimator-id-2\" class=\"sk-toggleable__label sk-toggleable__label-arrow\">DecisionTreeRegressor</label><div class=\"sk-toggleable__content\"><pre>DecisionTreeRegressor(max_depth=13, random_state=42)</pre></div></div></div></div></div>"
      ],
      "text/plain": [
       "DecisionTreeRegressor(max_depth=13, random_state=42)"
      ]
     },
     "execution_count": 38,
     "metadata": {},
     "output_type": "execute_result"
    }
   ],
   "source": [
    "model_DecisionTreeRegressor = DecisionTreeRegressor(max_depth=13,\n",
    "                                                    random_state=42)\n",
    "%time model_DecisionTreeRegressor.fit(features_train_encoder, target_train)"
   ]
  },
  {
   "cell_type": "code",
   "execution_count": 39,
   "id": "16a237ec",
   "metadata": {},
   "outputs": [
    {
     "name": "stdout",
     "output_type": "stream",
     "text": [
      "CPU times: total: 0 ns\n",
      "Wall time: 11.9 ms\n"
     ]
    }
   ],
   "source": [
    "%time DecisionTreeRegressor_predicted = model_DecisionTreeRegressor.predict(features_valid_encoder)"
   ]
  },
  {
   "cell_type": "code",
   "execution_count": 40,
   "id": "8a3c68c5",
   "metadata": {
    "scrolled": true
   },
   "outputs": [
    {
     "data": {
      "text/plain": [
       "2165.0182238532425"
      ]
     },
     "execution_count": 40,
     "metadata": {},
     "output_type": "execute_result"
    }
   ],
   "source": [
    "DecisionTreeRegressor_rmse = rmse(target_valid,\n",
    "                                  DecisionTreeRegressor_predicted)\n",
    "DecisionTreeRegressor_rmse"
   ]
  },
  {
   "cell_type": "code",
   "execution_count": 41,
   "id": "68359204",
   "metadata": {},
   "outputs": [
    {
     "name": "stdout",
     "output_type": "stream",
     "text": [
      "Profundidade máxima fixa em: 14\n",
      "Melhor número de estimadores: 60\n",
      "Melhor pontuação média: 0.8548615268617631\n"
     ]
    }
   ],
   "source": [
    "fixed_max_depth = 14\n",
    "\n",
    "param_grid = {'n_estimators': np.arange(50, 70, 10)}\n",
    "\n",
    "best_n_estimators = None\n",
    "best_mean_score = -float(\"inf\")\n",
    "\n",
    "for n_estimators in param_grid['n_estimators']:\n",
    "    model_RandomForestRegressor = RandomForestRegressor(\n",
    "        max_depth=fixed_max_depth, n_estimators=n_estimators, random_state=42)\n",
    "\n",
    "    scores = cross_val_score(model_RandomForestRegressor,\n",
    "                             features_valid_encoder,\n",
    "                             target_valid,\n",
    "                             cv=5)\n",
    "\n",
    "    mean_score = np.mean(\n",
    "        scores)  # Calcula a média das pontuações de validação cruzada\n",
    "\n",
    "    if mean_score > best_mean_score:\n",
    "        best_mean_score = mean_score\n",
    "        best_n_estimators = n_estimators\n",
    "\n",
    "print('Profundidade máxima fixa em:', fixed_max_depth)\n",
    "print('Melhor número de estimadores:', best_n_estimators)\n",
    "print('Melhor pontuação média:', best_mean_score)"
   ]
  },
  {
   "cell_type": "code",
   "execution_count": 42,
   "id": "33e187b7",
   "metadata": {},
   "outputs": [
    {
     "name": "stdout",
     "output_type": "stream",
     "text": [
      "CPU times: total: 27.2 s\n",
      "Wall time: 46.3 s\n"
     ]
    },
    {
     "data": {
      "text/html": [
       "<style>#sk-container-id-3 {color: black;}#sk-container-id-3 pre{padding: 0;}#sk-container-id-3 div.sk-toggleable {background-color: white;}#sk-container-id-3 label.sk-toggleable__label {cursor: pointer;display: block;width: 100%;margin-bottom: 0;padding: 0.3em;box-sizing: border-box;text-align: center;}#sk-container-id-3 label.sk-toggleable__label-arrow:before {content: \"▸\";float: left;margin-right: 0.25em;color: #696969;}#sk-container-id-3 label.sk-toggleable__label-arrow:hover:before {color: black;}#sk-container-id-3 div.sk-estimator:hover label.sk-toggleable__label-arrow:before {color: black;}#sk-container-id-3 div.sk-toggleable__content {max-height: 0;max-width: 0;overflow: hidden;text-align: left;background-color: #f0f8ff;}#sk-container-id-3 div.sk-toggleable__content pre {margin: 0.2em;color: black;border-radius: 0.25em;background-color: #f0f8ff;}#sk-container-id-3 input.sk-toggleable__control:checked~div.sk-toggleable__content {max-height: 200px;max-width: 100%;overflow: auto;}#sk-container-id-3 input.sk-toggleable__control:checked~label.sk-toggleable__label-arrow:before {content: \"▾\";}#sk-container-id-3 div.sk-estimator input.sk-toggleable__control:checked~label.sk-toggleable__label {background-color: #d4ebff;}#sk-container-id-3 div.sk-label input.sk-toggleable__control:checked~label.sk-toggleable__label {background-color: #d4ebff;}#sk-container-id-3 input.sk-hidden--visually {border: 0;clip: rect(1px 1px 1px 1px);clip: rect(1px, 1px, 1px, 1px);height: 1px;margin: -1px;overflow: hidden;padding: 0;position: absolute;width: 1px;}#sk-container-id-3 div.sk-estimator {font-family: monospace;background-color: #f0f8ff;border: 1px dotted black;border-radius: 0.25em;box-sizing: border-box;margin-bottom: 0.5em;}#sk-container-id-3 div.sk-estimator:hover {background-color: #d4ebff;}#sk-container-id-3 div.sk-parallel-item::after {content: \"\";width: 100%;border-bottom: 1px solid gray;flex-grow: 1;}#sk-container-id-3 div.sk-label:hover label.sk-toggleable__label {background-color: #d4ebff;}#sk-container-id-3 div.sk-serial::before {content: \"\";position: absolute;border-left: 1px solid gray;box-sizing: border-box;top: 0;bottom: 0;left: 50%;z-index: 0;}#sk-container-id-3 div.sk-serial {display: flex;flex-direction: column;align-items: center;background-color: white;padding-right: 0.2em;padding-left: 0.2em;position: relative;}#sk-container-id-3 div.sk-item {position: relative;z-index: 1;}#sk-container-id-3 div.sk-parallel {display: flex;align-items: stretch;justify-content: center;background-color: white;position: relative;}#sk-container-id-3 div.sk-item::before, #sk-container-id-3 div.sk-parallel-item::before {content: \"\";position: absolute;border-left: 1px solid gray;box-sizing: border-box;top: 0;bottom: 0;left: 50%;z-index: -1;}#sk-container-id-3 div.sk-parallel-item {display: flex;flex-direction: column;z-index: 1;position: relative;background-color: white;}#sk-container-id-3 div.sk-parallel-item:first-child::after {align-self: flex-end;width: 50%;}#sk-container-id-3 div.sk-parallel-item:last-child::after {align-self: flex-start;width: 50%;}#sk-container-id-3 div.sk-parallel-item:only-child::after {width: 0;}#sk-container-id-3 div.sk-dashed-wrapped {border: 1px dashed gray;margin: 0 0.4em 0.5em 0.4em;box-sizing: border-box;padding-bottom: 0.4em;background-color: white;}#sk-container-id-3 div.sk-label label {font-family: monospace;font-weight: bold;display: inline-block;line-height: 1.2em;}#sk-container-id-3 div.sk-label-container {text-align: center;}#sk-container-id-3 div.sk-container {/* jupyter's `normalize.less` sets `[hidden] { display: none; }` but bootstrap.min.css set `[hidden] { display: none !important; }` so we also need the `!important` here to be able to override the default hidden behavior on the sphinx rendered scikit-learn.org. See: https://github.com/scikit-learn/scikit-learn/issues/21755 */display: inline-block !important;position: relative;}#sk-container-id-3 div.sk-text-repr-fallback {display: none;}</style><div id=\"sk-container-id-3\" class=\"sk-top-container\"><div class=\"sk-text-repr-fallback\"><pre>RandomForestRegressor(max_depth=14, n_estimators=60, random_state=42)</pre><b>In a Jupyter environment, please rerun this cell to show the HTML representation or trust the notebook. <br />On GitHub, the HTML representation is unable to render, please try loading this page with nbviewer.org.</b></div><div class=\"sk-container\" hidden><div class=\"sk-item\"><div class=\"sk-estimator sk-toggleable\"><input class=\"sk-toggleable__control sk-hidden--visually\" id=\"sk-estimator-id-3\" type=\"checkbox\" checked><label for=\"sk-estimator-id-3\" class=\"sk-toggleable__label sk-toggleable__label-arrow\">RandomForestRegressor</label><div class=\"sk-toggleable__content\"><pre>RandomForestRegressor(max_depth=14, n_estimators=60, random_state=42)</pre></div></div></div></div></div>"
      ],
      "text/plain": [
       "RandomForestRegressor(max_depth=14, n_estimators=60, random_state=42)"
      ]
     },
     "execution_count": 42,
     "metadata": {},
     "output_type": "execute_result"
    }
   ],
   "source": [
    "model_RandomForestRegressor = RandomForestRegressor(n_estimators=60,\n",
    "                                                    max_depth=14,\n",
    "                                                    random_state=42)\n",
    "%time model_RandomForestRegressor.fit(features_train_encoder, target_train)"
   ]
  },
  {
   "cell_type": "code",
   "execution_count": 43,
   "id": "7e972f2a",
   "metadata": {},
   "outputs": [
    {
     "name": "stdout",
     "output_type": "stream",
     "text": [
      "CPU times: total: 219 ms\n",
      "Wall time: 436 ms\n"
     ]
    }
   ],
   "source": [
    "%time RandomForestRegressor_predicted = model_RandomForestRegressor.predict(features_valid_encoder)"
   ]
  },
  {
   "cell_type": "code",
   "execution_count": 44,
   "id": "93e62458",
   "metadata": {},
   "outputs": [
    {
     "data": {
      "text/plain": [
       "1893.67300929334"
      ]
     },
     "execution_count": 44,
     "metadata": {},
     "output_type": "execute_result"
    }
   ],
   "source": [
    "RandomForestRegressor_rmse = rmse(target_valid,\n",
    "                                  RandomForestRegressor_predicted)\n",
    "RandomForestRegressor_rmse"
   ]
  },
  {
   "cell_type": "code",
   "execution_count": 45,
   "id": "5e130da5",
   "metadata": {
    "scrolled": true
   },
   "outputs": [
    {
     "name": "stdout",
     "output_type": "stream",
     "text": [
      "0:\tlearn: 3009.1634295\ttotal: 249ms\tremaining: 24.7s\n",
      "1:\tlearn: 2410.5450648\ttotal: 361ms\tremaining: 17.7s\n",
      "2:\tlearn: 2104.7822963\ttotal: 473ms\tremaining: 15.3s\n",
      "3:\tlearn: 1947.0078197\ttotal: 580ms\tremaining: 13.9s\n",
      "4:\tlearn: 1850.9675503\ttotal: 684ms\tremaining: 13s\n",
      "5:\tlearn: 1807.2732272\ttotal: 781ms\tremaining: 12.2s\n",
      "6:\tlearn: 1778.4486344\ttotal: 881ms\tremaining: 11.7s\n",
      "7:\tlearn: 1756.8684801\ttotal: 975ms\tremaining: 11.2s\n",
      "8:\tlearn: 1735.6571699\ttotal: 1.08s\tremaining: 10.9s\n",
      "9:\tlearn: 1718.5736117\ttotal: 1.17s\tremaining: 10.6s\n",
      "10:\tlearn: 1704.7950152\ttotal: 1.27s\tremaining: 10.3s\n",
      "11:\tlearn: 1696.0501818\ttotal: 1.37s\tremaining: 10.1s\n",
      "12:\tlearn: 1687.5780179\ttotal: 1.48s\tremaining: 9.88s\n",
      "13:\tlearn: 1677.0066932\ttotal: 1.58s\tremaining: 9.69s\n",
      "14:\tlearn: 1669.2713714\ttotal: 1.67s\tremaining: 9.49s\n",
      "15:\tlearn: 1660.2785635\ttotal: 1.77s\tremaining: 9.31s\n",
      "16:\tlearn: 1653.6028732\ttotal: 1.87s\tremaining: 9.14s\n",
      "17:\tlearn: 1641.6527969\ttotal: 1.97s\tremaining: 8.97s\n",
      "18:\tlearn: 1634.3230896\ttotal: 2.07s\tremaining: 8.84s\n",
      "19:\tlearn: 1627.8331628\ttotal: 2.18s\tremaining: 8.71s\n",
      "20:\tlearn: 1619.0144105\ttotal: 2.28s\tremaining: 8.56s\n",
      "21:\tlearn: 1614.8267214\ttotal: 2.38s\tremaining: 8.42s\n",
      "22:\tlearn: 1610.1210536\ttotal: 2.47s\tremaining: 8.28s\n",
      "23:\tlearn: 1604.7655015\ttotal: 2.57s\tremaining: 8.15s\n",
      "24:\tlearn: 1601.2134281\ttotal: 2.67s\tremaining: 8.02s\n",
      "25:\tlearn: 1592.0373217\ttotal: 2.77s\tremaining: 7.89s\n",
      "26:\tlearn: 1589.6986212\ttotal: 2.87s\tremaining: 7.76s\n",
      "27:\tlearn: 1583.4592788\ttotal: 2.97s\tremaining: 7.64s\n",
      "28:\tlearn: 1578.8414088\ttotal: 3.07s\tremaining: 7.52s\n",
      "29:\tlearn: 1575.7262051\ttotal: 3.17s\tremaining: 7.4s\n",
      "30:\tlearn: 1569.0712842\ttotal: 3.27s\tremaining: 7.28s\n",
      "31:\tlearn: 1564.8899331\ttotal: 3.4s\tremaining: 7.23s\n",
      "32:\tlearn: 1561.1403835\ttotal: 3.51s\tremaining: 7.13s\n",
      "33:\tlearn: 1557.1214185\ttotal: 3.62s\tremaining: 7.03s\n",
      "34:\tlearn: 1551.6998892\ttotal: 3.72s\tremaining: 6.92s\n",
      "35:\tlearn: 1542.8119495\ttotal: 3.83s\tremaining: 6.8s\n",
      "36:\tlearn: 1538.4254618\ttotal: 3.93s\tremaining: 6.68s\n",
      "37:\tlearn: 1536.4170524\ttotal: 4.02s\tremaining: 6.57s\n",
      "38:\tlearn: 1532.3990068\ttotal: 4.15s\tremaining: 6.49s\n",
      "39:\tlearn: 1530.2001975\ttotal: 4.29s\tremaining: 6.43s\n",
      "40:\tlearn: 1527.4921493\ttotal: 4.5s\tremaining: 6.47s\n",
      "41:\tlearn: 1525.7532363\ttotal: 4.6s\tremaining: 6.36s\n",
      "42:\tlearn: 1521.9291440\ttotal: 4.71s\tremaining: 6.25s\n",
      "43:\tlearn: 1518.7039566\ttotal: 4.82s\tremaining: 6.13s\n",
      "44:\tlearn: 1515.5549372\ttotal: 4.92s\tremaining: 6.01s\n",
      "45:\tlearn: 1510.3618455\ttotal: 5.03s\tremaining: 5.9s\n",
      "46:\tlearn: 1508.2128960\ttotal: 5.13s\tremaining: 5.78s\n",
      "47:\tlearn: 1504.7972448\ttotal: 5.24s\tremaining: 5.67s\n",
      "48:\tlearn: 1501.5334785\ttotal: 5.34s\tremaining: 5.56s\n",
      "49:\tlearn: 1496.8784248\ttotal: 5.45s\tremaining: 5.45s\n",
      "50:\tlearn: 1494.5310744\ttotal: 5.56s\tremaining: 5.34s\n",
      "51:\tlearn: 1492.6080161\ttotal: 5.67s\tremaining: 5.23s\n",
      "52:\tlearn: 1489.6592209\ttotal: 5.78s\tremaining: 5.13s\n",
      "53:\tlearn: 1487.4650926\ttotal: 5.89s\tremaining: 5.02s\n",
      "54:\tlearn: 1486.2062921\ttotal: 6s\tremaining: 4.91s\n",
      "55:\tlearn: 1483.0527245\ttotal: 6.1s\tremaining: 4.79s\n",
      "56:\tlearn: 1481.0515295\ttotal: 6.2s\tremaining: 4.68s\n",
      "57:\tlearn: 1479.1794099\ttotal: 6.31s\tremaining: 4.57s\n",
      "58:\tlearn: 1477.3473671\ttotal: 6.41s\tremaining: 4.46s\n",
      "59:\tlearn: 1475.5310770\ttotal: 6.52s\tremaining: 4.35s\n",
      "60:\tlearn: 1473.4515711\ttotal: 6.63s\tremaining: 4.24s\n",
      "61:\tlearn: 1470.2007047\ttotal: 6.74s\tremaining: 4.13s\n",
      "62:\tlearn: 1467.2310491\ttotal: 6.84s\tremaining: 4.02s\n",
      "63:\tlearn: 1465.4632802\ttotal: 6.95s\tremaining: 3.91s\n",
      "64:\tlearn: 1464.6385778\ttotal: 7.04s\tremaining: 3.79s\n",
      "65:\tlearn: 1462.2347425\ttotal: 7.15s\tremaining: 3.69s\n",
      "66:\tlearn: 1459.0857679\ttotal: 7.25s\tremaining: 3.57s\n",
      "67:\tlearn: 1456.0041567\ttotal: 7.35s\tremaining: 3.46s\n",
      "68:\tlearn: 1454.1481708\ttotal: 7.44s\tremaining: 3.34s\n",
      "69:\tlearn: 1450.5626274\ttotal: 7.54s\tremaining: 3.23s\n",
      "70:\tlearn: 1448.3844071\ttotal: 7.63s\tremaining: 3.12s\n",
      "71:\tlearn: 1445.6141758\ttotal: 7.72s\tremaining: 3s\n",
      "72:\tlearn: 1443.6139503\ttotal: 7.81s\tremaining: 2.89s\n",
      "73:\tlearn: 1441.6757078\ttotal: 7.9s\tremaining: 2.78s\n",
      "74:\tlearn: 1439.7751422\ttotal: 7.99s\tremaining: 2.66s\n",
      "75:\tlearn: 1438.1306764\ttotal: 8.08s\tremaining: 2.55s\n",
      "76:\tlearn: 1436.7735691\ttotal: 8.17s\tremaining: 2.44s\n",
      "77:\tlearn: 1436.1877696\ttotal: 8.26s\tremaining: 2.33s\n",
      "78:\tlearn: 1433.0456887\ttotal: 8.35s\tremaining: 2.22s\n",
      "79:\tlearn: 1431.0687881\ttotal: 8.44s\tremaining: 2.11s\n",
      "80:\tlearn: 1430.1590235\ttotal: 8.53s\tremaining: 2s\n",
      "81:\tlearn: 1428.0318392\ttotal: 8.62s\tremaining: 1.89s\n",
      "82:\tlearn: 1425.9169432\ttotal: 8.74s\tremaining: 1.79s\n",
      "83:\tlearn: 1423.1712096\ttotal: 8.84s\tremaining: 1.68s\n",
      "84:\tlearn: 1420.2789600\ttotal: 8.95s\tremaining: 1.58s\n",
      "85:\tlearn: 1419.5224935\ttotal: 9.05s\tremaining: 1.47s\n",
      "86:\tlearn: 1417.6059431\ttotal: 9.16s\tremaining: 1.37s\n",
      "87:\tlearn: 1415.6123641\ttotal: 9.26s\tremaining: 1.26s\n",
      "88:\tlearn: 1413.9590561\ttotal: 9.37s\tremaining: 1.16s\n",
      "89:\tlearn: 1411.8625710\ttotal: 9.47s\tremaining: 1.05s\n",
      "90:\tlearn: 1411.1318742\ttotal: 9.58s\tremaining: 948ms\n",
      "91:\tlearn: 1408.5807921\ttotal: 9.69s\tremaining: 843ms\n",
      "92:\tlearn: 1406.6960706\ttotal: 9.8s\tremaining: 738ms\n",
      "93:\tlearn: 1405.6981236\ttotal: 9.9s\tremaining: 632ms\n",
      "94:\tlearn: 1403.6450952\ttotal: 10s\tremaining: 527ms\n",
      "95:\tlearn: 1401.8953854\ttotal: 10.1s\tremaining: 422ms\n",
      "96:\tlearn: 1400.0392749\ttotal: 10.2s\tremaining: 316ms\n",
      "97:\tlearn: 1398.3235727\ttotal: 10.3s\tremaining: 211ms\n",
      "98:\tlearn: 1395.9344390\ttotal: 10.4s\tremaining: 105ms\n",
      "99:\tlearn: 1395.1412333\ttotal: 10.5s\tremaining: 0us\n"
     ]
    }
   ],
   "source": [
    "model_CatBoostRegressor = CatBoostRegressor()\n",
    "parameters = {\n",
    "    'depth': [6, 8, 10],\n",
    "    'learning_rate': [0.01, 0.1, 0.5],\n",
    "    'l2_leaf_reg': [2, 4],\n",
    "    'iterations': [10, 50, 100],\n",
    "    'loss_function': ['RMSE'],\n",
    "    'random_seed': [42]\n",
    "}\n",
    "\n",
    "grid = GridSearchCV(estimator=model_CatBoostRegressor,\n",
    "                    param_grid=parameters,\n",
    "                    cv=5,\n",
    "                    n_jobs=-1,\n",
    "                    verbose=0)\n",
    "\n",
    "grid.fit(features_valid, target_valid, cat_features=cat_features)\n",
    "\n",
    "best_param = grid.best_params_"
   ]
  },
  {
   "cell_type": "code",
   "execution_count": 46,
   "id": "44bb8d88",
   "metadata": {},
   "outputs": [
    {
     "name": "stdout",
     "output_type": "stream",
     "text": [
      "Best score: 0.869101429073343\n",
      "Best hiperparameters: {'depth': 10, 'iterations': 100, 'l2_leaf_reg': 2, 'learning_rate': 0.5, 'loss_function': 'RMSE', 'random_seed': 42}\n"
     ]
    }
   ],
   "source": [
    "print('Best score:', grid.best_score_)\n",
    "print('Best hiperparameters:', best_param)"
   ]
  },
  {
   "cell_type": "code",
   "execution_count": 47,
   "id": "703d5281",
   "metadata": {},
   "outputs": [
    {
     "name": "stdout",
     "output_type": "stream",
     "text": [
      "CPU times: total: 10 s\n",
      "Wall time: 10.5 s\n"
     ]
    },
    {
     "data": {
      "text/plain": [
       "<catboost.core.CatBoostRegressor at 0x21dde7de890>"
      ]
     },
     "execution_count": 47,
     "metadata": {},
     "output_type": "execute_result"
    }
   ],
   "source": [
    "model_CatBoostRegressor = CatBoostRegressor(\n",
    "    depth=best_param['depth'],\n",
    "    iterations=best_param['iterations'],\n",
    "    l2_leaf_reg=best_param['l2_leaf_reg'],\n",
    "    learning_rate=best_param['learning_rate'],\n",
    "    loss_function='RMSE',\n",
    "    random_seed=42)\n",
    "\n",
    "%time model_CatBoostRegressor.fit(features_train, target_train, cat_features=cat_features,verbose=False)"
   ]
  },
  {
   "cell_type": "code",
   "execution_count": 48,
   "id": "8879eaf0",
   "metadata": {},
   "outputs": [
    {
     "name": "stdout",
     "output_type": "stream",
     "text": [
      "CPU times: total: 46.9 ms\n",
      "Wall time: 106 ms\n"
     ]
    }
   ],
   "source": [
    "%time CatBoostRegressor_predicted = model_CatBoostRegressor.predict(features_valid)"
   ]
  },
  {
   "cell_type": "code",
   "execution_count": 49,
   "id": "1be703af",
   "metadata": {},
   "outputs": [
    {
     "data": {
      "text/plain": [
       "1608.3053895731568"
      ]
     },
     "execution_count": 49,
     "metadata": {},
     "output_type": "execute_result"
    }
   ],
   "source": [
    "CatBoostRegressor_rmse = rmse(target_valid, CatBoostRegressor_predicted)\n",
    "CatBoostRegressor_rmse"
   ]
  },
  {
   "cell_type": "code",
   "execution_count": 50,
   "id": "202895db",
   "metadata": {},
   "outputs": [
    {
     "name": "stdout",
     "output_type": "stream",
     "text": [
      "[LightGBM] [Info] Auto-choosing row-wise multi-threading, the overhead of testing was 0.008547 seconds.\n",
      "You can set `force_row_wise=true` to remove the overhead.\n",
      "And if memory is not enough, you can set `force_col_wise=true`.\n",
      "[LightGBM] [Info] Total Bins 727\n",
      "[LightGBM] [Info] Number of data points in the train set: 251955, number of used features: 11\n",
      "[LightGBM] [Info] Start training from score 4419.522486\n"
     ]
    }
   ],
   "source": [
    "features_train[cat_features] = features_train[cat_features].astype('category')\n",
    "features_valid[cat_features] = features_valid[cat_features].astype('category')\n",
    "model_LGBMRegressor = LGBMRegressor()\n",
    "parameters = {\n",
    "    'num_leaves': [10, 20, 30],\n",
    "    'learning_rate': [0.5, 0.1],\n",
    "    'n_estimators': [10, 20],\n",
    "    'random_state': [42],\n",
    "    'objective': ['rmse']\n",
    "}\n",
    "grid = GridSearchCV(estimator=model_LGBMRegressor,\n",
    "                    param_grid=parameters,\n",
    "                    cv=5,\n",
    "                    n_jobs=-1)\n",
    "grid.fit(features_valid, target_valid)\n",
    "best_param = grid.best_params_"
   ]
  },
  {
   "cell_type": "code",
   "execution_count": 51,
   "id": "6729aa18",
   "metadata": {
    "scrolled": true
   },
   "outputs": [
    {
     "name": "stdout",
     "output_type": "stream",
     "text": [
      "Best score: 0.8550536814791478\n",
      "Best hiperparameters: {'learning_rate': 0.5, 'n_estimators': 20, 'num_leaves': 30, 'objective': 'rmse', 'random_state': 42}\n"
     ]
    }
   ],
   "source": [
    "print('Best score:', grid.best_score_)\n",
    "print('Best hiperparameters:', best_param)"
   ]
  },
  {
   "cell_type": "code",
   "execution_count": 52,
   "id": "41516c93",
   "metadata": {},
   "outputs": [
    {
     "name": "stdout",
     "output_type": "stream",
     "text": [
      "[LightGBM] [Info] Auto-choosing row-wise multi-threading, the overhead of testing was 0.006049 seconds.\n",
      "You can set `force_row_wise=true` to remove the overhead.\n",
      "And if memory is not enough, you can set `force_col_wise=true`.\n",
      "[LightGBM] [Info] Total Bins 729\n",
      "[LightGBM] [Info] Number of data points in the train set: 251955, number of used features: 11\n",
      "[LightGBM] [Info] Start training from score 4419.522486\n",
      "CPU times: total: 4.25 s\n",
      "Wall time: 940 ms\n"
     ]
    },
    {
     "data": {
      "text/html": [
       "<style>#sk-container-id-4 {color: black;}#sk-container-id-4 pre{padding: 0;}#sk-container-id-4 div.sk-toggleable {background-color: white;}#sk-container-id-4 label.sk-toggleable__label {cursor: pointer;display: block;width: 100%;margin-bottom: 0;padding: 0.3em;box-sizing: border-box;text-align: center;}#sk-container-id-4 label.sk-toggleable__label-arrow:before {content: \"▸\";float: left;margin-right: 0.25em;color: #696969;}#sk-container-id-4 label.sk-toggleable__label-arrow:hover:before {color: black;}#sk-container-id-4 div.sk-estimator:hover label.sk-toggleable__label-arrow:before {color: black;}#sk-container-id-4 div.sk-toggleable__content {max-height: 0;max-width: 0;overflow: hidden;text-align: left;background-color: #f0f8ff;}#sk-container-id-4 div.sk-toggleable__content pre {margin: 0.2em;color: black;border-radius: 0.25em;background-color: #f0f8ff;}#sk-container-id-4 input.sk-toggleable__control:checked~div.sk-toggleable__content {max-height: 200px;max-width: 100%;overflow: auto;}#sk-container-id-4 input.sk-toggleable__control:checked~label.sk-toggleable__label-arrow:before {content: \"▾\";}#sk-container-id-4 div.sk-estimator input.sk-toggleable__control:checked~label.sk-toggleable__label {background-color: #d4ebff;}#sk-container-id-4 div.sk-label input.sk-toggleable__control:checked~label.sk-toggleable__label {background-color: #d4ebff;}#sk-container-id-4 input.sk-hidden--visually {border: 0;clip: rect(1px 1px 1px 1px);clip: rect(1px, 1px, 1px, 1px);height: 1px;margin: -1px;overflow: hidden;padding: 0;position: absolute;width: 1px;}#sk-container-id-4 div.sk-estimator {font-family: monospace;background-color: #f0f8ff;border: 1px dotted black;border-radius: 0.25em;box-sizing: border-box;margin-bottom: 0.5em;}#sk-container-id-4 div.sk-estimator:hover {background-color: #d4ebff;}#sk-container-id-4 div.sk-parallel-item::after {content: \"\";width: 100%;border-bottom: 1px solid gray;flex-grow: 1;}#sk-container-id-4 div.sk-label:hover label.sk-toggleable__label {background-color: #d4ebff;}#sk-container-id-4 div.sk-serial::before {content: \"\";position: absolute;border-left: 1px solid gray;box-sizing: border-box;top: 0;bottom: 0;left: 50%;z-index: 0;}#sk-container-id-4 div.sk-serial {display: flex;flex-direction: column;align-items: center;background-color: white;padding-right: 0.2em;padding-left: 0.2em;position: relative;}#sk-container-id-4 div.sk-item {position: relative;z-index: 1;}#sk-container-id-4 div.sk-parallel {display: flex;align-items: stretch;justify-content: center;background-color: white;position: relative;}#sk-container-id-4 div.sk-item::before, #sk-container-id-4 div.sk-parallel-item::before {content: \"\";position: absolute;border-left: 1px solid gray;box-sizing: border-box;top: 0;bottom: 0;left: 50%;z-index: -1;}#sk-container-id-4 div.sk-parallel-item {display: flex;flex-direction: column;z-index: 1;position: relative;background-color: white;}#sk-container-id-4 div.sk-parallel-item:first-child::after {align-self: flex-end;width: 50%;}#sk-container-id-4 div.sk-parallel-item:last-child::after {align-self: flex-start;width: 50%;}#sk-container-id-4 div.sk-parallel-item:only-child::after {width: 0;}#sk-container-id-4 div.sk-dashed-wrapped {border: 1px dashed gray;margin: 0 0.4em 0.5em 0.4em;box-sizing: border-box;padding-bottom: 0.4em;background-color: white;}#sk-container-id-4 div.sk-label label {font-family: monospace;font-weight: bold;display: inline-block;line-height: 1.2em;}#sk-container-id-4 div.sk-label-container {text-align: center;}#sk-container-id-4 div.sk-container {/* jupyter's `normalize.less` sets `[hidden] { display: none; }` but bootstrap.min.css set `[hidden] { display: none !important; }` so we also need the `!important` here to be able to override the default hidden behavior on the sphinx rendered scikit-learn.org. See: https://github.com/scikit-learn/scikit-learn/issues/21755 */display: inline-block !important;position: relative;}#sk-container-id-4 div.sk-text-repr-fallback {display: none;}</style><div id=\"sk-container-id-4\" class=\"sk-top-container\"><div class=\"sk-text-repr-fallback\"><pre>LGBMRegressor()</pre><b>In a Jupyter environment, please rerun this cell to show the HTML representation or trust the notebook. <br />On GitHub, the HTML representation is unable to render, please try loading this page with nbviewer.org.</b></div><div class=\"sk-container\" hidden><div class=\"sk-item\"><div class=\"sk-estimator sk-toggleable\"><input class=\"sk-toggleable__control sk-hidden--visually\" id=\"sk-estimator-id-4\" type=\"checkbox\" checked><label for=\"sk-estimator-id-4\" class=\"sk-toggleable__label sk-toggleable__label-arrow\">LGBMRegressor</label><div class=\"sk-toggleable__content\"><pre>LGBMRegressor()</pre></div></div></div></div></div>"
      ],
      "text/plain": [
       "LGBMRegressor()"
      ]
     },
     "execution_count": 52,
     "metadata": {},
     "output_type": "execute_result"
    }
   ],
   "source": [
    "model_LGBMRegressor = LGBMRegressor()\n",
    "parameters = {\n",
    "    'num_leaves': 30,\n",
    "    'learning_rate': 0.5,\n",
    "    'n_estimators': 20,\n",
    "    'random_state': 42,\n",
    "    'objective': ['rmse'],\n",
    "}\n",
    "%time model_LGBMRegressor.fit(features_train, target_train)"
   ]
  },
  {
   "cell_type": "code",
   "execution_count": 53,
   "id": "620a64c8",
   "metadata": {},
   "outputs": [
    {
     "name": "stdout",
     "output_type": "stream",
     "text": [
      "CPU times: total: 500 ms\n",
      "Wall time: 92.9 ms\n"
     ]
    }
   ],
   "source": [
    "features_valid[cat_features] = features_valid[cat_features].astype('category')\n",
    "%time LGBMRegressor_predicted = model_LGBMRegressor.predict(features_valid)"
   ]
  },
  {
   "cell_type": "code",
   "execution_count": 54,
   "id": "7c402729",
   "metadata": {},
   "outputs": [
    {
     "data": {
      "text/plain": [
       "1615.348551645744"
      ]
     },
     "execution_count": 54,
     "metadata": {},
     "output_type": "execute_result"
    }
   ],
   "source": [
    "LGBMRegressor_rmse = rmse(target_valid, LGBMRegressor_predicted)\n",
    "LGBMRegressor_rmse"
   ]
  },
  {
   "cell_type": "markdown",
   "id": "922b248b",
   "metadata": {},
   "source": [
    "## Análise do modelo"
   ]
  },
  {
   "cell_type": "code",
   "execution_count": 55,
   "id": "67601b3f",
   "metadata": {},
   "outputs": [
    {
     "data": {
      "text/html": [
       "<div>\n",
       "<style scoped>\n",
       "    .dataframe tbody tr th:only-of-type {\n",
       "        vertical-align: middle;\n",
       "    }\n",
       "\n",
       "    .dataframe tbody tr th {\n",
       "        vertical-align: top;\n",
       "    }\n",
       "\n",
       "    .dataframe thead th {\n",
       "        text-align: right;\n",
       "    }\n",
       "</style>\n",
       "<table border=\"1\" class=\"dataframe\">\n",
       "  <thead>\n",
       "    <tr style=\"text-align: right;\">\n",
       "      <th></th>\n",
       "      <th>training_time</th>\n",
       "      <th>prediction_time</th>\n",
       "      <th>RMSE</th>\n",
       "    </tr>\n",
       "  </thead>\n",
       "  <tbody>\n",
       "    <tr>\n",
       "      <th>CatBoostRegressor</th>\n",
       "      <td>11 s</td>\n",
       "      <td>107 ms</td>\n",
       "      <td>1608.305390</td>\n",
       "    </tr>\n",
       "    <tr>\n",
       "      <th>LGBMRegressor</th>\n",
       "      <td>1.2 s</td>\n",
       "      <td>76.7 ms</td>\n",
       "      <td>1615.348552</td>\n",
       "    </tr>\n",
       "    <tr>\n",
       "      <th>RandomForestRegressor</th>\n",
       "      <td>43.7 s</td>\n",
       "      <td>451 ms</td>\n",
       "      <td>1893.673009</td>\n",
       "    </tr>\n",
       "    <tr>\n",
       "      <th>DecisionTreeRegressor</th>\n",
       "      <td>862 ms</td>\n",
       "      <td>11.6 ms</td>\n",
       "      <td>2165.018224</td>\n",
       "    </tr>\n",
       "    <tr>\n",
       "      <th>LinearRegression</th>\n",
       "      <td>137 ms</td>\n",
       "      <td>8.02 ms</td>\n",
       "      <td>3196.453643</td>\n",
       "    </tr>\n",
       "  </tbody>\n",
       "</table>\n",
       "</div>"
      ],
      "text/plain": [
       "                      training_time prediction_time         RMSE\n",
       "CatBoostRegressor              11 s          107 ms  1608.305390\n",
       "LGBMRegressor                 1.2 s         76.7 ms  1615.348552\n",
       "RandomForestRegressor        43.7 s          451 ms  1893.673009\n",
       "DecisionTreeRegressor        862 ms         11.6 ms  2165.018224\n",
       "LinearRegression             137 ms         8.02 ms  3196.453643"
      ]
     },
     "execution_count": 55,
     "metadata": {},
     "output_type": "execute_result"
    }
   ],
   "source": [
    "index = [\n",
    "    'LinearRegression', 'DecisionTreeRegressor', 'RandomForestRegressor',\n",
    "    'CatBoostRegressor', 'LGBMRegressor'\n",
    "]\n",
    "analisy = pd.DataFrame(data={\n",
    "    'training_time': ['137 ms', '862 ms', '43.7 s', '11 s', '1.2 s'],\n",
    "    'prediction_time': ['8.02 ms', '11.6 ms', '451 ms', '107 ms', '76.7 ms'],\n",
    "    'RMSE': [\n",
    "        3196.4536428365886, 2165.0182238532425, 1893.67300929334,\n",
    "        1608.3053895731568, 1615.348551645744\n",
    "    ]\n",
    "},\n",
    "                       index=index)\n",
    "\n",
    "analisy.sort_values(by=\"RMSE\", inplace=True)\n",
    "analisy"
   ]
  },
  {
   "cell_type": "markdown",
   "id": "ca440259",
   "metadata": {},
   "source": [
    "**Conclusão:**\n",
    "\n",
    "Ao considerar o desempenho (RMSE) e a eficiência de treinamento e predição, observamos que o **CatBoostRegressor** e o **LGBMRegressor** se destacam como os dois melhores modelos.\n",
    "\n",
    "**CatBoostRegressor** apresenta um RMSE ligeiramente melhor (1608.31) em comparação com o **LGBMRegressor** (1615.35). Ambos têm uma precisão semelhante.\n",
    "No entanto, o **LGBMRegressor** demonstra uma vantagem significativa em termos de tempo de treinamento (1.2 s) em comparação com o **CatBoostRegressor** (11 s).\n",
    "Além disso, o **LGBMRegressor** também tem um tempo de predição mais rápido (76.7 ms) em comparação com o **CatBoostRegressor** (107 ms).\n",
    "Portanto, considerando um equilíbrio entre precisão, eficiência de treinamento e eficiência de predição, o **LGBMRegressor** é uma escolha sólida para este conjunto de dados. É um modelo que oferece um bom compromisso entre desempenho e eficiência."
   ]
  },
  {
   "cell_type": "code",
   "execution_count": 56,
   "id": "33c9a613",
   "metadata": {},
   "outputs": [
    {
     "name": "stdout",
     "output_type": "stream",
     "text": [
      "[LightGBM] [Info] Auto-choosing col-wise multi-threading, the overhead of testing was 0.001530 seconds.\n",
      "You can set `force_col_wise=true` to remove the overhead.\n",
      "[LightGBM] [Info] Total Bins 647\n",
      "[LightGBM] [Info] Number of data points in the train set: 41993, number of used features: 11\n",
      "[LightGBM] [Info] Start training from score 4440.979973\n",
      "CPU times: total: 1.81 s\n",
      "Wall time: 380 ms\n"
     ]
    },
    {
     "data": {
      "text/plain": [
       "1660.3246005514213"
      ]
     },
     "execution_count": 56,
     "metadata": {},
     "output_type": "execute_result"
    }
   ],
   "source": [
    "%%time\n",
    "\n",
    "model_LGBMRegressor = LGBMRegressor()\n",
    "parameters = {\n",
    "    'num_leaves': 30,\n",
    "    'learning_rate': 0.5,\n",
    "    'n_estimators': 20,\n",
    "    'random_state': 42,\n",
    "    'objective': ['rmse'],\n",
    "}\n",
    "\n",
    "model_LGBMRegressor.fit(features_valid, target_valid)\n",
    "\n",
    "features_test[cat_features] = features_test[cat_features].astype('category')\n",
    "LGBMRegressor_predicted = model_LGBMRegressor.predict(features_test)\n",
    "\n",
    "LGBMRegressor_rmse = rmse(target_test, LGBMRegressor_predicted)\n",
    "LGBMRegressor_rmse"
   ]
  }
 ],
 "metadata": {
  "kernelspec": {
   "display_name": "Python 3 (ipykernel)",
   "language": "python",
   "name": "python3"
  },
  "language_info": {
   "codemirror_mode": {
    "name": "ipython",
    "version": 3
   },
   "file_extension": ".py",
   "mimetype": "text/x-python",
   "name": "python",
   "nbconvert_exporter": "python",
   "pygments_lexer": "ipython3",
   "version": "3.11.4"
  },
  "toc": {
   "base_numbering": 1,
   "nav_menu": {},
   "number_sections": true,
   "sideBar": true,
   "skip_h1_title": false,
   "title_cell": "Table of Contents",
   "title_sidebar": "Contents",
   "toc_cell": false,
   "toc_position": {},
   "toc_section_display": true,
   "toc_window_display": false
  },
  "varInspector": {
   "cols": {
    "lenName": 16,
    "lenType": 16,
    "lenVar": 40
   },
   "kernels_config": {
    "python": {
     "delete_cmd_postfix": "",
     "delete_cmd_prefix": "del ",
     "library": "var_list.py",
     "varRefreshCmd": "print(var_dic_list())"
    },
    "r": {
     "delete_cmd_postfix": ") ",
     "delete_cmd_prefix": "rm(",
     "library": "var_list.r",
     "varRefreshCmd": "cat(var_dic_list()) "
    }
   },
   "types_to_exclude": [
    "module",
    "function",
    "builtin_function_or_method",
    "instance",
    "_Feature"
   ],
   "window_display": false
  }
 },
 "nbformat": 4,
 "nbformat_minor": 5
}
